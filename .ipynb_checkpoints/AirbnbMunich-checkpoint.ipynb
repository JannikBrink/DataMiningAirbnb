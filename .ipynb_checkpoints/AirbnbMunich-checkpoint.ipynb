{
 "cells": [
  {
   "cell_type": "markdown",
   "metadata": {},
   "source": [
    "## Timeline\n",
    "**Start of Project:** 04.11.2019 \n",
    "**Submission of Project Results:** 27.11.2019\n",
    "\n",
    "**Phases:** \n",
    "1. Week (06.11 - 12.11): Preprocessing \n",
    "2. Week (13.11 - 19.11): Iterate & Evaluate the Models \n",
    "3. Week (20.11 - 26.11): Writing the Report"
   ]
  },
  {
   "cell_type": "markdown",
   "metadata": {},
   "source": [
    "## Responsibilities\n",
    "- Liste mit Begründungen für Auswahl der Feature (Feature | Begründung) - Jannik\n",
    "- Preprocessing: \n",
    "  - Neighbourhood_cleansed (One-hot) (& PLZ Gibt es genug Beispiele prüfen?)- Daniel \n",
    "  - Property_type (One-hot) - Jannik \n",
    "  - Room_type (One-hot) - Jannik\n",
    "  - Accomodates - Caro\n",
    "  - Bathrooms (Maybe) - Caro\n",
    "  - Bedrooms - Fritz\n",
    "  - Amenities - Jakob\n",
    "  - Beds - Fritz\n",
    "  - Bed_type (One-hot) - Fritz\n",
    "\n",
    "- Juli Datensatz fürs Preprocessing"
   ]
  },
  {
   "cell_type": "markdown",
   "metadata": {},
   "source": [
    "# Airbnb Price Prediction"
   ]
  },
  {
   "cell_type": "markdown",
   "metadata": {},
   "source": [
    "## Goal\n",
    "The goal of our data mining project is to predict prices for new Airbnb listings in Munich. To achieve this, we will train a regression model on existing Airbnb data from www.insideairbnb.com."
   ]
  },
  {
   "cell_type": "markdown",
   "metadata": {},
   "source": [
    "## Import libraries"
   ]
  },
  {
   "cell_type": "code",
   "execution_count": 4,
   "metadata": {},
   "outputs": [],
   "source": [
    "import pandas as pd\n",
    "import matplotlib.pyplot as plt\n",
    "from sklearn.model_selection import train_test_split\n",
    "from sklearn.linear_model import LinearRegression\n",
    "from sklearn.linear_model import LinearRegression\n",
    "from sklearn.preprocessing import PolynomialFeatures\n",
    "from sklearn.pipeline import Pipeline\n",
    "from sklearn.metrics import mean_squared_error, r2_score\n",
    "from math import sqrt\n",
    "from sklearn.feature_selection import f_regression\n",
    "from sklearn.feature_selection import SelectKBest, SelectFwe\n",
    "from collections import Counter"
   ]
  },
  {
   "cell_type": "markdown",
   "metadata": {},
   "source": [
    "## Load the data"
   ]
  },
  {
   "cell_type": "code",
   "execution_count": 17,
   "metadata": {},
   "outputs": [
    {
     "name": "stderr",
     "output_type": "stream",
     "text": [
      "C:\\Users\\jakob\\Anaconda3\\lib\\site-packages\\IPython\\core\\interactiveshell.py:3057: DtypeWarning: Columns (43,61,62,94) have mixed types. Specify dtype option on import or set low_memory=False.\n",
      "  interactivity=interactivity, compiler=compiler, result=result)\n"
     ]
    }
   ],
   "source": [
    "munich = pd.read_csv('Data/listings_Munich_July.csv')\n",
    "\n",
    "# drop all colums except the ones that we are using\n",
    "munich = munich.loc[:, munich.columns.intersection(['neighbourhood_cleansed', 'property_type', 'room_type', 'accommodates', 'bathrooms', 'bedrooms', 'beds', 'bed_type', 'price', 'amenities'])]\n",
    "\n",
    "# convert column price to float values without leading $ sign\n",
    "munich['price'] = munich['price'].replace( '[\\$,)]','', regex=True ).astype(float)"
   ]
  },
  {
   "cell_type": "markdown",
   "metadata": {},
   "source": [
    "## Understand the data"
   ]
  },
  {
   "cell_type": "code",
   "execution_count": 74,
   "metadata": {},
   "outputs": [],
   "source": [
    "#munich.head()"
   ]
  },
  {
   "cell_type": "code",
   "execution_count": 6,
   "metadata": {},
   "outputs": [
    {
     "name": "stdout",
     "output_type": "stream",
     "text": [
      "Ludwigsvorstadt-Isarvorstadt                              1077\n",
      "Maxvorstadt                                               1000\n",
      "Schwabing-West                                             735\n",
      "Neuhausen-Nymphenburg                                      702\n",
      "Au-Haidhausen                                              686\n",
      "Schwabing-Freimann                                         589\n",
      "Bogenhausen                                                471\n",
      "Milbertshofen-Am Hart                                      428\n",
      "Sendling                                                   427\n",
      "Schwanthalerhöhe                                           409\n",
      "Ramersdorf-Perlach                                         368\n",
      "Sendling-Westpark                                          361\n",
      "Thalkirchen-Obersendling-Forstenried-Fürstenried-Solln     359\n",
      "Laim                                                       353\n",
      "Obergiesing                                                346\n",
      "Untergiesing-Harlaching                                    339\n",
      "Altstadt-Lehel                                             330\n",
      "Tudering-Riem                                              278\n",
      "Pasing-Obermenzing                                         212\n",
      "Berg am Laim                                               211\n",
      "Moosach                                                    193\n",
      "Hadern                                                     124\n",
      "Feldmoching-Hasenbergl                                      97\n",
      "Aubing-Lochhausen-Langwied                                  82\n",
      "Allach-Untermenzing                                         61\n",
      "Name: neighbourhood_cleansed, dtype: int64\n"
     ]
    }
   ],
   "source": [
    "# understand feature neighbourhoods_cleansed\n",
    "print(munich['neighbourhood_cleansed'].value_counts())"
   ]
  },
  {
   "cell_type": "code",
   "execution_count": 7,
   "metadata": {},
   "outputs": [
    {
     "name": "stdout",
     "output_type": "stream",
     "text": [
      "0.0     1023\n",
      "1.0     7683\n",
      "2.0     1157\n",
      "3.0      288\n",
      "4.0       57\n",
      "5.0        4\n",
      "6.0        2\n",
      "7.0        1\n",
      "8.0        6\n",
      "10.0       1\n",
      "20.0       1\n",
      "25.0       1\n",
      "Name: bedrooms, dtype: int64\n",
      "0.0     0.100059\n",
      "1.0     0.751467\n",
      "2.0     0.113165\n",
      "3.0     0.028169\n",
      "4.0     0.005575\n",
      "5.0     0.000391\n",
      "6.0     0.000196\n",
      "7.0     0.000098\n",
      "8.0     0.000587\n",
      "10.0    0.000098\n",
      "20.0    0.000098\n",
      "25.0    0.000098\n",
      "Name: bedrooms, dtype: float64\n"
     ]
    }
   ],
   "source": [
    "# Fritz: understand feature bedrooms \n",
    "# total\n",
    "print(munich['bedrooms'].value_counts().sort_index())\n",
    "# normalized\n",
    "print(munich['bedrooms'].value_counts(normalize=True).sort_index())"
   ]
  },
  {
   "cell_type": "markdown",
   "metadata": {},
   "source": [
    "One can see that most listings have one or two bedrooms. In 1023 cases there seems to be no bedroom. This value is set by Airbnb landlords if there is not seperated bedroom (e.g. a one room apartment or when accommodating in the living room). It needs to be evaluated how well several regression models can handle this encoding.\n",
    "\n",
    "The listings with 25, 20 and 10 bedrooms are hostels. As there only exist 16 listings with more than four bedrooms, it might make sense to drop those as these are extreme outliers. We can later on specify that our model is only able to predict price for new listings with less than five bedrooms."
   ]
  },
  {
   "cell_type": "code",
   "execution_count": 8,
   "metadata": {},
   "outputs": [
    {
     "name": "stdout",
     "output_type": "stream",
     "text": [
      "0.0       48\n",
      "1.0     6608\n",
      "2.0     2455\n",
      "3.0      575\n",
      "4.0      279\n",
      "5.0       98\n",
      "6.0       83\n",
      "7.0       28\n",
      "8.0       31\n",
      "9.0        1\n",
      "10.0       3\n",
      "12.0       1\n",
      "14.0       1\n",
      "15.0       1\n",
      "16.0      10\n",
      "18.0       1\n",
      "20.0       1\n",
      "30.0       1\n",
      "50.0       1\n",
      "Name: beds, dtype: int64\n",
      "0.0     0.004694\n",
      "1.0     0.646196\n",
      "2.0     0.240074\n",
      "3.0     0.056229\n",
      "4.0     0.027283\n",
      "5.0     0.009583\n",
      "6.0     0.008117\n",
      "7.0     0.002738\n",
      "8.0     0.003031\n",
      "9.0     0.000098\n",
      "10.0    0.000293\n",
      "12.0    0.000098\n",
      "14.0    0.000098\n",
      "15.0    0.000098\n",
      "16.0    0.000978\n",
      "18.0    0.000098\n",
      "20.0    0.000098\n",
      "30.0    0.000098\n",
      "50.0    0.000098\n",
      "Name: beds, dtype: float64\n"
     ]
    }
   ],
   "source": [
    "# Fritz: understand feature beds\n",
    "# total\n",
    "print(munich['beds'].value_counts().sort_index())\n",
    "# normalized\n",
    "print(munich['beds'].value_counts(normalize=True).sort_index())"
   ]
  },
  {
   "cell_type": "markdown",
   "metadata": {},
   "source": [
    "Here one can see a similar situation as with the number of bedrooms. Most listings have one or two beds. In 48 cases Airbnb landlords set the number of beds to zero. A manual check of some listings showed that beds are actually present and listings were not created correctly. Thus, listings with zero beds will not be considered in the training.\n",
    "\n",
    "Only 21 listings offer 9 or more beds. These might be dropped as well like examples with five ore more bedrooms."
   ]
  },
  {
   "cell_type": "code",
   "execution_count": 9,
   "metadata": {},
   "outputs": [
    {
     "name": "stdout",
     "output_type": "stream",
     "text": [
      "Real Bed         9728\n",
      "Pull-out Sofa     343\n",
      "Couch              79\n",
      "Futon              61\n",
      "Airbed             27\n",
      "Name: bed_type, dtype: int64\n",
      "Real Bed         0.950186\n",
      "Pull-out Sofa    0.033503\n",
      "Couch            0.007716\n",
      "Futon            0.005958\n",
      "Airbed           0.002637\n",
      "Name: bed_type, dtype: float64\n"
     ]
    }
   ],
   "source": [
    "# Fritz: understand feature bed_type\n",
    "# total\n",
    "print(munich['bed_type'].value_counts())\n",
    "# normalized\n",
    "print(munich['bed_type'].value_counts(normalize=True))"
   ]
  },
  {
   "cell_type": "markdown",
   "metadata": {},
   "source": [
    "One can see that real beds are offered in the great majority (95%) of all listings. Pull-out sofas occur in about 3% while listings with bed types couch, futon and airbed are not really present in the dataset.\n",
    "\n",
    "Based on the assumption that there are no big differences in comfort when comparing pull-out sofa, couch, futon and airbed, those categorical values can be merged. A difference to real beds shall be considered. The result is a single boolean feature 'Real Bed' which only holds true and false values."
   ]
  },
  {
   "cell_type": "markdown",
   "metadata": {},
   "source": [
    "### Amenities"
   ]
  },
  {
   "cell_type": "markdown",
   "metadata": {},
   "source": []
  },
  {
   "cell_type": "code",
   "execution_count": 20,
   "metadata": {},
   "outputs": [
    {
     "data": {
      "text/plain": [
       "[('Heating', 9709),\n",
       " ('Wifi', 9581),\n",
       " ('Essentials', 9314),\n",
       " ('Kitchen', 9306),\n",
       " ('Washer', 7907),\n",
       " ('Smoke detector', 7127),\n",
       " ('Hair dryer', 6978),\n",
       " ('Hangers', 6748),\n",
       " ('Laptop friendly workspace', 6408),\n",
       " ('TV', 6300),\n",
       " ('Iron', 5990),\n",
       " ('Shampoo', 5617),\n",
       " ('Hot water', 4657),\n",
       " ('Elevator', 4490),\n",
       " ('Dryer', 3517),\n",
       " ('Lock on bedroom door', 3460),\n",
       " ('Refrigerator', 2983),\n",
       " ('Dishes and silverware', 2909),\n",
       " ('Internet', 2905),\n",
       " ('Host greets you', 2797),\n",
       " ('Bed linens', 2765),\n",
       " ('Stove', 2742),\n",
       " ('Cooking basics', 2718),\n",
       " ('Family/kid friendly', 2500),\n",
       " ('Cable TV', 2458),\n",
       " ('Oven', 2358),\n",
       " ('Buzzer/wireless intercom', 2217),\n",
       " ('First aid kit', 2200),\n",
       " ('Coffee maker', 2127),\n",
       " ('Dishwasher', 1988)]"
      ]
     },
     "execution_count": 20,
     "metadata": {},
     "output_type": "execute_result"
    }
   ],
   "source": [
    "all_amenities = list()\n",
    "for amenities in munich['amenities']:\n",
    "    for amenity in amenities.split(\"{\")[1].split(\"}\")[0].split(\",\"):\n",
    "        all_amenities.append(amenity.replace('\"', ''))\n",
    "all_amenities_set = set(all_amenities)\n",
    "Counter(all_amenities).most_common(30)"
   ]
  },
  {
   "cell_type": "code",
   "execution_count": null,
   "metadata": {},
   "outputs": [],
   "source": [
    "relevant_amenities = ['Wifi', 'Internet', 'TV', 'Kitchen', 'Heating', 'Washer', 'Patio or balcony', 'Breakfast', '24-hour check-in', 'Pool', 'Private entrance'] \n",
    "for element in relevant_amenities:\n",
    "    munich[element.lower()] = 0\n",
    "    \n",
    "for row in munich.itertuples():\n",
    "    for element in relevant_amenities:\n",
    "        if element in row.amenities:\n",
    "            munich.loc[row.Index, element.lower()] = 1\n",
    "            \n",
    "munich = munich.drop(columns = 'amenities')"
   ]
  },
  {
   "cell_type": "code",
   "execution_count": 13,
   "metadata": {},
   "outputs": [
    {
     "data": {
      "text/html": [
       "<div>\n",
       "<style scoped>\n",
       "    .dataframe tbody tr th:only-of-type {\n",
       "        vertical-align: middle;\n",
       "    }\n",
       "\n",
       "    .dataframe tbody tr th {\n",
       "        vertical-align: top;\n",
       "    }\n",
       "\n",
       "    .dataframe thead th {\n",
       "        text-align: right;\n",
       "    }\n",
       "</style>\n",
       "<table border=\"1\" class=\"dataframe\">\n",
       "  <thead>\n",
       "    <tr style=\"text-align: right;\">\n",
       "      <th>private entrance</th>\n",
       "      <th>0</th>\n",
       "      <th>1</th>\n",
       "    </tr>\n",
       "    <tr>\n",
       "      <th>neighbourhood_cleansed</th>\n",
       "      <th></th>\n",
       "      <th></th>\n",
       "    </tr>\n",
       "  </thead>\n",
       "  <tbody>\n",
       "    <tr>\n",
       "      <th>Allach-Untermenzing</th>\n",
       "      <td>47</td>\n",
       "      <td>14</td>\n",
       "    </tr>\n",
       "    <tr>\n",
       "      <th>Altstadt-Lehel</th>\n",
       "      <td>275</td>\n",
       "      <td>55</td>\n",
       "    </tr>\n",
       "    <tr>\n",
       "      <th>Au-Haidhausen</th>\n",
       "      <td>578</td>\n",
       "      <td>108</td>\n",
       "    </tr>\n",
       "    <tr>\n",
       "      <th>Aubing-Lochhausen-Langwied</th>\n",
       "      <td>65</td>\n",
       "      <td>17</td>\n",
       "    </tr>\n",
       "    <tr>\n",
       "      <th>Berg am Laim</th>\n",
       "      <td>176</td>\n",
       "      <td>35</td>\n",
       "    </tr>\n",
       "    <tr>\n",
       "      <th>Bogenhausen</th>\n",
       "      <td>394</td>\n",
       "      <td>77</td>\n",
       "    </tr>\n",
       "    <tr>\n",
       "      <th>Feldmoching-Hasenbergl</th>\n",
       "      <td>83</td>\n",
       "      <td>14</td>\n",
       "    </tr>\n",
       "    <tr>\n",
       "      <th>Hadern</th>\n",
       "      <td>106</td>\n",
       "      <td>18</td>\n",
       "    </tr>\n",
       "    <tr>\n",
       "      <th>Laim</th>\n",
       "      <td>310</td>\n",
       "      <td>43</td>\n",
       "    </tr>\n",
       "    <tr>\n",
       "      <th>Ludwigsvorstadt-Isarvorstadt</th>\n",
       "      <td>910</td>\n",
       "      <td>167</td>\n",
       "    </tr>\n",
       "    <tr>\n",
       "      <th>Maxvorstadt</th>\n",
       "      <td>858</td>\n",
       "      <td>142</td>\n",
       "    </tr>\n",
       "    <tr>\n",
       "      <th>Milbertshofen-Am Hart</th>\n",
       "      <td>342</td>\n",
       "      <td>86</td>\n",
       "    </tr>\n",
       "    <tr>\n",
       "      <th>Moosach</th>\n",
       "      <td>165</td>\n",
       "      <td>28</td>\n",
       "    </tr>\n",
       "    <tr>\n",
       "      <th>Neuhausen-Nymphenburg</th>\n",
       "      <td>607</td>\n",
       "      <td>95</td>\n",
       "    </tr>\n",
       "    <tr>\n",
       "      <th>Obergiesing</th>\n",
       "      <td>304</td>\n",
       "      <td>42</td>\n",
       "    </tr>\n",
       "    <tr>\n",
       "      <th>Pasing-Obermenzing</th>\n",
       "      <td>179</td>\n",
       "      <td>33</td>\n",
       "    </tr>\n",
       "    <tr>\n",
       "      <th>Ramersdorf-Perlach</th>\n",
       "      <td>296</td>\n",
       "      <td>72</td>\n",
       "    </tr>\n",
       "    <tr>\n",
       "      <th>Schwabing-Freimann</th>\n",
       "      <td>501</td>\n",
       "      <td>88</td>\n",
       "    </tr>\n",
       "    <tr>\n",
       "      <th>Schwabing-West</th>\n",
       "      <td>630</td>\n",
       "      <td>105</td>\n",
       "    </tr>\n",
       "    <tr>\n",
       "      <th>Schwanthalerhöhe</th>\n",
       "      <td>351</td>\n",
       "      <td>58</td>\n",
       "    </tr>\n",
       "    <tr>\n",
       "      <th>Sendling</th>\n",
       "      <td>374</td>\n",
       "      <td>53</td>\n",
       "    </tr>\n",
       "    <tr>\n",
       "      <th>Sendling-Westpark</th>\n",
       "      <td>286</td>\n",
       "      <td>75</td>\n",
       "    </tr>\n",
       "    <tr>\n",
       "      <th>Thalkirchen-Obersendling-Forstenried-Fürstenried-Solln</th>\n",
       "      <td>281</td>\n",
       "      <td>78</td>\n",
       "    </tr>\n",
       "    <tr>\n",
       "      <th>Tudering-Riem</th>\n",
       "      <td>195</td>\n",
       "      <td>83</td>\n",
       "    </tr>\n",
       "    <tr>\n",
       "      <th>Untergiesing-Harlaching</th>\n",
       "      <td>276</td>\n",
       "      <td>63</td>\n",
       "    </tr>\n",
       "  </tbody>\n",
       "</table>\n",
       "</div>"
      ],
      "text/plain": [
       "private entrance                                      0    1\n",
       "neighbourhood_cleansed                                      \n",
       "Allach-Untermenzing                                  47   14\n",
       "Altstadt-Lehel                                      275   55\n",
       "Au-Haidhausen                                       578  108\n",
       "Aubing-Lochhausen-Langwied                           65   17\n",
       "Berg am Laim                                        176   35\n",
       "Bogenhausen                                         394   77\n",
       "Feldmoching-Hasenbergl                               83   14\n",
       "Hadern                                              106   18\n",
       "Laim                                                310   43\n",
       "Ludwigsvorstadt-Isarvorstadt                        910  167\n",
       "Maxvorstadt                                         858  142\n",
       "Milbertshofen-Am Hart                               342   86\n",
       "Moosach                                             165   28\n",
       "Neuhausen-Nymphenburg                               607   95\n",
       "Obergiesing                                         304   42\n",
       "Pasing-Obermenzing                                  179   33\n",
       "Ramersdorf-Perlach                                  296   72\n",
       "Schwabing-Freimann                                  501   88\n",
       "Schwabing-West                                      630  105\n",
       "Schwanthalerhöhe                                    351   58\n",
       "Sendling                                            374   53\n",
       "Sendling-Westpark                                   286   75\n",
       "Thalkirchen-Obersendling-Forstenried-Fürstenrie...  281   78\n",
       "Tudering-Riem                                       195   83\n",
       "Untergiesing-Harlaching                             276   63"
      ]
     },
     "execution_count": 13,
     "metadata": {},
     "output_type": "execute_result"
    }
   ],
   "source": [
    "munich['wifi'].describe()\n",
    "munich['internet'].describe()\n",
    "munich['tv'].describe()\n",
    "munich[(munich['wifi'] == 0) & (munich['internet'] == 1)].count()\n",
    "pd.crosstab(munich['neighbourhood_cleansed'], munich['private entrance'])"
   ]
  },
  {
   "cell_type": "markdown",
   "metadata": {},
   "source": [
    "## Preprocess the data"
   ]
  },
  {
   "cell_type": "code",
   "execution_count": 49,
   "metadata": {},
   "outputs": [],
   "source": [
    "# one-hot encoding where necessary"
   ]
  },
  {
   "cell_type": "markdown",
   "metadata": {},
   "source": [
    "## Compare different months"
   ]
  },
  {
   "cell_type": "code",
   "execution_count": 45,
   "metadata": {},
   "outputs": [],
   "source": [
    "munich_09 = pd.read_csv('Data/listings_19_09.csv')\n",
    "munich_09['price'] = munich_09['price'].replace( '[\\$,)]','', regex=True ).astype(float)\n",
    "munich_08 = pd.read_csv('Data/listings_19_08.csv')\n",
    "munich_06 = pd.read_csv('Data/listings_19_06.csv')\n",
    "munich_05 = pd.read_csv('Data/listings_19_05.csv')"
   ]
  },
  {
   "cell_type": "code",
   "execution_count": 47,
   "metadata": {},
   "outputs": [
    {
     "name": "stdout",
     "output_type": "stream",
     "text": [
      "May\n",
      "Median:  80.0\n",
      "Mean:  107.91782208278514\n",
      "\n",
      "June\n",
      "Median:  80.0\n",
      "Mean:  108.27851247887044\n",
      "\n",
      "July\n",
      "Median:  80.0\n",
      "Mean:  109.05909357296348\n",
      "\n",
      "August\n",
      "Median:  80.0\n",
      "Mean:  113.40779101741522\n",
      "\n",
      "September\n",
      "Median:  89.0\n",
      "Mean:  119.22780610180465\n"
     ]
    }
   ],
   "source": [
    "print('May')\n",
    "print('Median: ', munich_05['price'].median())\n",
    "print('Mean: ', munich_05['price'].mean())\n",
    "print()\n",
    "print('June')\n",
    "print('Median: ', munich_06['price'].median())\n",
    "print('Mean: ', munich_06['price'].mean())\n",
    "print()\n",
    "print('July')\n",
    "print('Median: ', munich['price'].median())\n",
    "print('Mean: ', munich['price'].mean())\n",
    "print()\n",
    "print('August')\n",
    "print('Median: ', munich_08['price'].median())\n",
    "print('Mean: ', munich_08['price'].mean())\n",
    "print()\n",
    "print('September')\n",
    "print('Median: ', munich_09['price'].median())\n",
    "print('Mean: ', munich_09['price'].mean())\n"
   ]
  },
  {
   "cell_type": "markdown",
   "metadata": {},
   "source": [
    "One can see that the average prices are quite stabile from May to August but increase a lot in September. This can be traced back to the Oktoberfest in Munich that takes place in September. We need to find a good solution for dealing with these variations. "
   ]
  }
 ],
 "metadata": {
  "kernelspec": {
   "display_name": "Python 3",
   "language": "python",
   "name": "python3"
  },
  "language_info": {
   "codemirror_mode": {
    "name": "ipython",
    "version": 3
   },
   "file_extension": ".py",
   "mimetype": "text/x-python",
   "name": "python",
   "nbconvert_exporter": "python",
   "pygments_lexer": "ipython3",
   "version": "3.7.3"
  }
 },
 "nbformat": 4,
 "nbformat_minor": 2
}
