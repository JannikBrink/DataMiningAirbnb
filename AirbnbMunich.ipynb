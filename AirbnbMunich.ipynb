{
 "cells": [
  {
   "cell_type": "markdown",
   "metadata": {},
   "source": [
    "## Timeline\n",
    "**Start of Project:** 04.11.2019 \n",
    "**Submission of Project Results:** 27.11.2019\n",
    "\n",
    "**Phases:** \n",
    "1. Week (06.11 - 12.11): Preprocessing \n",
    "2. Week (13.11 - 19.11): Iterate & Evaluate the Models \n",
    "3. Week (20.11 - 26.11): Writing the Report"
   ]
  },
  {
   "cell_type": "markdown",
   "metadata": {},
   "source": [
    "## Responsibilities\n",
    "- Liste mit Begründungen für Auswahl der Feature (Feature | Begründung) - Jannik\n",
    "- Preprocessing: \n",
    "  - Neighbourhood_cleansed (One-hot) (& PLZ Gibt es genug Beispiele prüfen?)- Daniel \n",
    "  - Property_type (One-hot) - Jannik \n",
    "  - Room_type (One-hot) - Jannik\n",
    "  - Accomodates - Caro\n",
    "  - Bathrooms (Maybe) - Caro\n",
    "  - Bedrooms - Fritz\n",
    "  - Amenities - Jakob\n",
    "  - Beds - Fritz\n",
    "  - Bed_type (One-hot) - Fritz\n",
    "\n",
    "- Juli Datensatz fürs Preprocessing"
   ]
  },
  {
   "cell_type": "markdown",
   "metadata": {},
   "source": [
    "# Airbnb Price Prediction"
   ]
  },
  {
   "cell_type": "markdown",
   "metadata": {},
   "source": [
    "## Goal\n",
    "The goal of our data mining project is to predict prices for new Airbnb listings in Munich. To achieve this, we will train a regression model on existing Airbnb data from www.insideairbnb.com."
   ]
  },
  {
   "cell_type": "markdown",
   "metadata": {},
   "source": [
    "## Import libraries"
   ]
  },
  {
   "cell_type": "code",
   "execution_count": 39,
   "metadata": {},
   "outputs": [],
   "source": [
    "import pandas as pd\n",
    "import matplotlib.pyplot as plt\n",
    "from sklearn.model_selection import train_test_split\n",
    "from sklearn.linear_model import LinearRegression\n",
    "from sklearn.linear_model import LinearRegression\n",
    "from sklearn.preprocessing import PolynomialFeatures\n",
    "from sklearn.pipeline import Pipeline\n",
    "from sklearn.metrics import mean_squared_error, r2_score\n",
    "from math import sqrt\n",
    "from sklearn.feature_selection import f_regression\n",
    "from sklearn.feature_selection import SelectKBest, SelectFwe"
   ]
  },
  {
   "cell_type": "markdown",
   "metadata": {},
   "source": [
    "## Load the data"
   ]
  },
  {
   "cell_type": "code",
   "execution_count": 48,
   "metadata": {},
   "outputs": [],
   "source": [
    "munich = pd.read_csv('Data/listings_Munich_July.csv')\n",
    "\n",
    "# drop all colums except the ones that we are using\n",
    "munich = munich.loc[:, munich.columns.intersection(['neighbourhood_cleansed', 'property_type', 'room_type', 'accommodates', 'bathrooms', 'bedrooms', 'beds', 'bed_type', 'price', 'amenities'])]\n",
    "\n",
    "# convert column price to float values without leading $ sign\n",
    "munich['price'] = munich['price'].replace( '[\\$,)]','', regex=True ).astype(float)"
   ]
  },
  {
   "cell_type": "markdown",
   "metadata": {},
   "source": [
    "## Understand the data"
   ]
  },
  {
   "cell_type": "code",
   "execution_count": 74,
   "metadata": {},
   "outputs": [],
   "source": [
    "#munich.head()"
   ]
  },
  {
   "cell_type": "code",
   "execution_count": 75,
   "metadata": {},
   "outputs": [
    {
     "name": "stdout",
     "output_type": "stream",
     "text": [
      "Ludwigsvorstadt-Isarvorstadt                              1077\n",
      "Maxvorstadt                                               1000\n",
      "Schwabing-West                                             735\n",
      "Neuhausen-Nymphenburg                                      702\n",
      "Au-Haidhausen                                              686\n",
      "Schwabing-Freimann                                         589\n",
      "Bogenhausen                                                471\n",
      "Milbertshofen-Am Hart                                      428\n",
      "Sendling                                                   427\n",
      "Schwanthalerhöhe                                           409\n",
      "Ramersdorf-Perlach                                         368\n",
      "Sendling-Westpark                                          361\n",
      "Thalkirchen-Obersendling-Forstenried-Fürstenried-Solln     359\n",
      "Laim                                                       353\n",
      "Obergiesing                                                346\n",
      "Untergiesing-Harlaching                                    339\n",
      "Altstadt-Lehel                                             330\n",
      "Tudering-Riem                                              278\n",
      "Pasing-Obermenzing                                         212\n",
      "Berg am Laim                                               211\n",
      "Moosach                                                    193\n",
      "Hadern                                                     124\n",
      "Feldmoching-Hasenbergl                                      97\n",
      "Aubing-Lochhausen-Langwied                                  82\n",
      "Allach-Untermenzing                                         61\n",
      "Name: neighbourhood_cleansed, dtype: int64\n"
     ]
    }
   ],
   "source": [
    "# understand feature neighbourhoods_cleansed\n",
    "print(munich['neighbourhood_cleansed'].value_counts())"
   ]
  },
  {
   "cell_type": "code",
   "execution_count": 76,
   "metadata": {},
   "outputs": [
    {
     "name": "stdout",
     "output_type": "stream",
     "text": [
      "0.0     1023\n",
      "1.0     7683\n",
      "2.0     1157\n",
      "3.0      288\n",
      "4.0       57\n",
      "5.0        4\n",
      "6.0        2\n",
      "7.0        1\n",
      "8.0        6\n",
      "10.0       1\n",
      "20.0       1\n",
      "25.0       1\n",
      "Name: bedrooms, dtype: int64\n",
      "0.0     0.100059\n",
      "1.0     0.751467\n",
      "2.0     0.113165\n",
      "3.0     0.028169\n",
      "4.0     0.005575\n",
      "5.0     0.000391\n",
      "6.0     0.000196\n",
      "7.0     0.000098\n",
      "8.0     0.000587\n",
      "10.0    0.000098\n",
      "20.0    0.000098\n",
      "25.0    0.000098\n",
      "Name: bedrooms, dtype: float64\n"
     ]
    }
   ],
   "source": [
    "# Fritz: understand feature bedrooms \n",
    "# total\n",
    "print(munich['bedrooms'].value_counts().sort_index())\n",
    "# normalized\n",
    "print(munich['bedrooms'].value_counts(normalize=True).sort_index())"
   ]
  },
  {
   "cell_type": "markdown",
   "metadata": {},
   "source": [
    "One can see that most listings have one or two bedrooms. In 1023 cases there seems to be no bedroom. This value is set by Airbnb landlords if there is not seperated bedroom (e.g. a one room apartment or when accommodating in the living room). It needs to be evaluated how well several regression models can handle this encoding.\n",
    "\n",
    "The listings with 25, 20 and 10 bedrooms are hostels. As there only exist 16 listings with more than four bedrooms, it might make sense to drop those as these are extreme outliers. We can later on specify that our model is only able to predict price for new listings with less than five bedrooms."
   ]
  },
  {
   "cell_type": "code",
   "execution_count": 77,
   "metadata": {},
   "outputs": [
    {
     "name": "stdout",
     "output_type": "stream",
     "text": [
      "0.0       48\n",
      "1.0     6608\n",
      "2.0     2455\n",
      "3.0      575\n",
      "4.0      279\n",
      "5.0       98\n",
      "6.0       83\n",
      "7.0       28\n",
      "8.0       31\n",
      "9.0        1\n",
      "10.0       3\n",
      "12.0       1\n",
      "14.0       1\n",
      "15.0       1\n",
      "16.0      10\n",
      "18.0       1\n",
      "20.0       1\n",
      "30.0       1\n",
      "50.0       1\n",
      "Name: beds, dtype: int64\n",
      "0.0     0.004694\n",
      "1.0     0.646196\n",
      "2.0     0.240074\n",
      "3.0     0.056229\n",
      "4.0     0.027283\n",
      "5.0     0.009583\n",
      "6.0     0.008117\n",
      "7.0     0.002738\n",
      "8.0     0.003031\n",
      "9.0     0.000098\n",
      "10.0    0.000293\n",
      "12.0    0.000098\n",
      "14.0    0.000098\n",
      "15.0    0.000098\n",
      "16.0    0.000978\n",
      "18.0    0.000098\n",
      "20.0    0.000098\n",
      "30.0    0.000098\n",
      "50.0    0.000098\n",
      "Name: beds, dtype: float64\n"
     ]
    }
   ],
   "source": [
    "# Fritz: understand feature beds\n",
    "# total\n",
    "print(munich['beds'].value_counts().sort_index())\n",
    "# normalized\n",
    "print(munich['beds'].value_counts(normalize=True).sort_index())"
   ]
  },
  {
   "cell_type": "markdown",
   "metadata": {},
   "source": [
    "Here one can see a similar situation as with the number of bedrooms. Most listings have one or two beds. In 48 cases Airbnb landlords set the number of beds to zero. A manual check of some listings showed that beds are actually present and listings were not created correctly. Thus, listings with zero beds will not be considered in the training.\n",
    "\n",
    "Only 21 listings offer 9 or more beds. These might be dropped as well like examples with five ore more bedrooms."
   ]
  },
  {
   "cell_type": "code",
   "execution_count": 78,
   "metadata": {},
   "outputs": [
    {
     "name": "stdout",
     "output_type": "stream",
     "text": [
      "Real Bed         9728\n",
      "Pull-out Sofa     343\n",
      "Couch              79\n",
      "Futon              61\n",
      "Airbed             27\n",
      "Name: bed_type, dtype: int64\n",
      "Real Bed         0.950186\n",
      "Pull-out Sofa    0.033503\n",
      "Couch            0.007716\n",
      "Futon            0.005958\n",
      "Airbed           0.002637\n",
      "Name: bed_type, dtype: float64\n"
     ]
    }
   ],
   "source": [
    "# Fritz: understand feature bed_type\n",
    "# total\n",
    "print(munich['bed_type'].value_counts())\n",
    "# normalized\n",
    "print(munich['bed_type'].value_counts(normalize=True))"
   ]
  },
  {
   "cell_type": "markdown",
   "metadata": {},
   "source": [
    "One can see that real beds are offered in the great majority (95%) of all listings. Pull-out sofas occur in about 3% while listings with bed types couch, futon and airbed are not really present in the dataset.\n",
    "\n",
    "Based on the assumption that there are no big differences in comfort when comparing pull-out sofa, couch, futon and airbed, those categorical values can be merged. A difference to real beds shall be considered. The result is a single boolean feature 'Real Bed' which only holds true and false values."
   ]
  },
  {
   "cell_type": "markdown",
   "metadata": {},
   "source": [
    "## Preprocess the data"
   ]
  },
  {
   "cell_type": "code",
   "execution_count": 49,
   "metadata": {},
   "outputs": [],
   "source": [
    "# one-hot encoding where necessary"
   ]
  },
  {
   "cell_type": "markdown",
   "metadata": {},
   "source": [
    "## Compare different months"
   ]
  },
  {
   "cell_type": "code",
   "execution_count": 45,
   "metadata": {},
   "outputs": [],
   "source": [
    "munich_09 = pd.read_csv('Data/listings_19_09.csv')\n",
    "munich_09['price'] = munich_09['price'].replace( '[\\$,)]','', regex=True ).astype(float)\n",
    "munich_08 = pd.read_csv('Data/listings_19_08.csv')\n",
    "munich_06 = pd.read_csv('Data/listings_19_06.csv')\n",
    "munich_05 = pd.read_csv('Data/listings_19_05.csv')"
   ]
  },
  {
   "cell_type": "code",
   "execution_count": 47,
   "metadata": {},
   "outputs": [
    {
     "name": "stdout",
     "output_type": "stream",
     "text": [
      "May\n",
      "Median:  80.0\n",
      "Mean:  107.91782208278514\n",
      "\n",
      "June\n",
      "Median:  80.0\n",
      "Mean:  108.27851247887044\n",
      "\n",
      "July\n",
      "Median:  80.0\n",
      "Mean:  109.05909357296348\n",
      "\n",
      "August\n",
      "Median:  80.0\n",
      "Mean:  113.40779101741522\n",
      "\n",
      "September\n",
      "Median:  89.0\n",
      "Mean:  119.22780610180465\n"
     ]
    }
   ],
   "source": [
    "print('May')\n",
    "print('Median: ', munich_05['price'].median())\n",
    "print('Mean: ', munich_05['price'].mean())\n",
    "print()\n",
    "print('June')\n",
    "print('Median: ', munich_06['price'].median())\n",
    "print('Mean: ', munich_06['price'].mean())\n",
    "print()\n",
    "print('July')\n",
    "print('Median: ', munich['price'].median())\n",
    "print('Mean: ', munich['price'].mean())\n",
    "print()\n",
    "print('August')\n",
    "print('Median: ', munich_08['price'].median())\n",
    "print('Mean: ', munich_08['price'].mean())\n",
    "print()\n",
    "print('September')\n",
    "print('Median: ', munich_09['price'].median())\n",
    "print('Mean: ', munich_09['price'].mean())\n"
   ]
  },
  {
   "cell_type": "markdown",
   "metadata": {},
   "source": [
    "One can see that the average prices are quite stabile from May to August but increase a lot in September. This can be traced back to the Oktoberfest in Munich that takes place in September. We need to find a good solution for dealing with these variations. "
   ]
  }
 ],
 "metadata": {
  "kernelspec": {
   "display_name": "Python 3",
   "language": "python",
   "name": "python3"
  },
  "language_info": {
   "codemirror_mode": {
    "name": "ipython",
    "version": 3
   },
   "file_extension": ".py",
   "mimetype": "text/x-python",
   "name": "python",
   "nbconvert_exporter": "python",
   "pygments_lexer": "ipython3",
   "version": "3.7.3"
  }
 },
 "nbformat": 4,
 "nbformat_minor": 2
}
